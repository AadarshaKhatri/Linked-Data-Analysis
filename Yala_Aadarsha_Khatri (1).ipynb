{
 "cells": [
  {
   "cell_type": "code",
   "execution_count": 1,
   "id": "4df0df56-ee34-4ba5-821a-07bbceff9fd8",
   "metadata": {},
   "outputs": [],
   "source": [
    "import pandas as pd\n",
    "import numpy as np\n",
    "from matplotlib import pyplot as plt\n"
   ]
  },
  {
   "cell_type": "markdown",
   "id": "8b254187-9520-463f-9b5f-082a43f93692",
   "metadata": {},
   "source": [
    "https://www.kaggle.com/datasets/killbot/linkedin-profiles-and-jobs-data"
   ]
  },
  {
   "cell_type": "code",
   "execution_count": 2,
   "id": "54b5da0a-8c4c-4b55-a2ec-c0ba80fdee19",
   "metadata": {},
   "outputs": [],
   "source": [
    "df = pd.read_csv(\"Data.csv\")"
   ]
  },
  {
   "cell_type": "code",
   "execution_count": 3,
   "id": "2e2896ee-c140-48b0-888c-e681f8398226",
   "metadata": {},
   "outputs": [
    {
     "data": {
      "text/html": [
       "<div>\n",
       "<style scoped>\n",
       "    .dataframe tbody tr th:only-of-type {\n",
       "        vertical-align: middle;\n",
       "    }\n",
       "\n",
       "    .dataframe tbody tr th {\n",
       "        vertical-align: top;\n",
       "    }\n",
       "\n",
       "    .dataframe thead th {\n",
       "        text-align: right;\n",
       "    }\n",
       "</style>\n",
       "<table border=\"1\" class=\"dataframe\">\n",
       "  <thead>\n",
       "    <tr style=\"text-align: right;\">\n",
       "      <th></th>\n",
       "      <th>Unnamed: 0</th>\n",
       "      <th>ageEstimate</th>\n",
       "      <th>companyFollowerCount</th>\n",
       "      <th>companyHasLogo</th>\n",
       "      <th>companyName</th>\n",
       "      <th>companyStaffCount</th>\n",
       "      <th>companyUrl</th>\n",
       "      <th>companyUrn</th>\n",
       "      <th>connectionsCount</th>\n",
       "      <th>country</th>\n",
       "      <th>...</th>\n",
       "      <th>mbrLocationCode</th>\n",
       "      <th>mbrTitle</th>\n",
       "      <th>memberUrn</th>\n",
       "      <th>posLocation</th>\n",
       "      <th>posLocationCode</th>\n",
       "      <th>posTitle</th>\n",
       "      <th>positionId</th>\n",
       "      <th>startDate</th>\n",
       "      <th>avgMemberPosDuration</th>\n",
       "      <th>avgCompanyPosDuration</th>\n",
       "    </tr>\n",
       "  </thead>\n",
       "  <tbody>\n",
       "    <tr>\n",
       "      <th>0</th>\n",
       "      <td>0</td>\n",
       "      <td>41.0</td>\n",
       "      <td>198859.0</td>\n",
       "      <td>5a92c12e-0a20-482b-95ec-e705a6294730-2.png</td>\n",
       "      <td>Commonwealth Bank</td>\n",
       "      <td>32905.0</td>\n",
       "      <td>http://www.commbank.com.au/</td>\n",
       "      <td>urn:li:company:2848</td>\n",
       "      <td>500.0</td>\n",
       "      <td>au</td>\n",
       "      <td>...</td>\n",
       "      <td>urn:li:fs_region:(au,4910)</td>\n",
       "      <td>Portfolio Executive at Commonwealth Bank</td>\n",
       "      <td>urn:li:member:10013136</td>\n",
       "      <td>NaN</td>\n",
       "      <td>NaN</td>\n",
       "      <td>Portfolio Executive</td>\n",
       "      <td>240345.0</td>\n",
       "      <td>2014-07-01</td>\n",
       "      <td>760.5000</td>\n",
       "      <td>989.9361</td>\n",
       "    </tr>\n",
       "    <tr>\n",
       "      <th>1</th>\n",
       "      <td>1</td>\n",
       "      <td>41.0</td>\n",
       "      <td>198859.0</td>\n",
       "      <td>5a92c12e-0a20-482b-95ec-e705a6294730-2.png</td>\n",
       "      <td>Commonwealth Bank</td>\n",
       "      <td>32905.0</td>\n",
       "      <td>http://www.commbank.com.au/</td>\n",
       "      <td>urn:li:company:2848</td>\n",
       "      <td>500.0</td>\n",
       "      <td>au</td>\n",
       "      <td>...</td>\n",
       "      <td>urn:li:fs_region:(au,4910)</td>\n",
       "      <td>Portfolio Executive at Commonwealth Bank</td>\n",
       "      <td>urn:li:member:10013136</td>\n",
       "      <td>Sydney, Australia</td>\n",
       "      <td>urn:li:fs_region:(au,4910)</td>\n",
       "      <td>Solution Delivery Executive</td>\n",
       "      <td>240346.0</td>\n",
       "      <td>2013-11-01</td>\n",
       "      <td>760.5000</td>\n",
       "      <td>989.9361</td>\n",
       "    </tr>\n",
       "    <tr>\n",
       "      <th>2</th>\n",
       "      <td>2</td>\n",
       "      <td>41.0</td>\n",
       "      <td>10047.0</td>\n",
       "      <td>b1c3fd9a-8f21-48f8-8321-d773b1ff3cb7-2.png</td>\n",
       "      <td>CommSec</td>\n",
       "      <td>619.0</td>\n",
       "      <td>http://www.commsec.com.au</td>\n",
       "      <td>urn:li:company:2851</td>\n",
       "      <td>500.0</td>\n",
       "      <td>au</td>\n",
       "      <td>...</td>\n",
       "      <td>urn:li:fs_region:(au,4910)</td>\n",
       "      <td>Portfolio Executive at Commonwealth Bank</td>\n",
       "      <td>urn:li:member:10013136</td>\n",
       "      <td>NaN</td>\n",
       "      <td>NaN</td>\n",
       "      <td>Project Manager</td>\n",
       "      <td>240348.0</td>\n",
       "      <td>2008-08-01</td>\n",
       "      <td>760.5000</td>\n",
       "      <td>747.2308</td>\n",
       "    </tr>\n",
       "    <tr>\n",
       "      <th>3</th>\n",
       "      <td>3</td>\n",
       "      <td>41.0</td>\n",
       "      <td>198859.0</td>\n",
       "      <td>5a92c12e-0a20-482b-95ec-e705a6294730-2.png</td>\n",
       "      <td>Commonwealth Bank</td>\n",
       "      <td>32905.0</td>\n",
       "      <td>http://www.commbank.com.au/</td>\n",
       "      <td>urn:li:company:2848</td>\n",
       "      <td>500.0</td>\n",
       "      <td>au</td>\n",
       "      <td>...</td>\n",
       "      <td>urn:li:fs_region:(au,4910)</td>\n",
       "      <td>Portfolio Executive at Commonwealth Bank</td>\n",
       "      <td>urn:li:member:10013136</td>\n",
       "      <td>NaN</td>\n",
       "      <td>NaN</td>\n",
       "      <td>Project Manager</td>\n",
       "      <td>240350.0</td>\n",
       "      <td>2007-02-01</td>\n",
       "      <td>760.5000</td>\n",
       "      <td>989.9361</td>\n",
       "    </tr>\n",
       "    <tr>\n",
       "      <th>4</th>\n",
       "      <td>4</td>\n",
       "      <td>30.0</td>\n",
       "      <td>300723.0</td>\n",
       "      <td>0f982557-a907-409e-af20-1feb0e0813cd-2.png</td>\n",
       "      <td>PayPal</td>\n",
       "      <td>22522.0</td>\n",
       "      <td>http://www.paypal.com</td>\n",
       "      <td>urn:li:company:1482</td>\n",
       "      <td>500.0</td>\n",
       "      <td>au</td>\n",
       "      <td>...</td>\n",
       "      <td>urn:li:fs_region:(au,4910)</td>\n",
       "      <td>Senior Marketing Manager, PayPal</td>\n",
       "      <td>urn:li:member:100186032</td>\n",
       "      <td>NaN</td>\n",
       "      <td>NaN</td>\n",
       "      <td>Senior Marketing Manager</td>\n",
       "      <td>229893.0</td>\n",
       "      <td>2017-01-01</td>\n",
       "      <td>395.2857</td>\n",
       "      <td>683.3496</td>\n",
       "    </tr>\n",
       "    <tr>\n",
       "      <th>...</th>\n",
       "      <td>...</td>\n",
       "      <td>...</td>\n",
       "      <td>...</td>\n",
       "      <td>...</td>\n",
       "      <td>...</td>\n",
       "      <td>...</td>\n",
       "      <td>...</td>\n",
       "      <td>...</td>\n",
       "      <td>...</td>\n",
       "      <td>...</td>\n",
       "      <td>...</td>\n",
       "      <td>...</td>\n",
       "      <td>...</td>\n",
       "      <td>...</td>\n",
       "      <td>...</td>\n",
       "      <td>...</td>\n",
       "      <td>...</td>\n",
       "      <td>...</td>\n",
       "      <td>...</td>\n",
       "      <td>...</td>\n",
       "      <td>...</td>\n",
       "    </tr>\n",
       "    <tr>\n",
       "      <th>39532</th>\n",
       "      <td>39532</td>\n",
       "      <td>46.0</td>\n",
       "      <td>151686.0</td>\n",
       "      <td>71b7f012-183c-43c8-a9af-b39a1b9a89a0-2.png</td>\n",
       "      <td>National Australia Bank</td>\n",
       "      <td>27944.0</td>\n",
       "      <td>http://www.nab.com.au</td>\n",
       "      <td>urn:li:company:2357</td>\n",
       "      <td>362.0</td>\n",
       "      <td>au</td>\n",
       "      <td>...</td>\n",
       "      <td>urn:li:fs_region:(au,4900)</td>\n",
       "      <td>Head Of (Distributed) Credit, Vic/Tas at Natio...</td>\n",
       "      <td>urn:li:member:9985941</td>\n",
       "      <td>St Kilda Rd Melbourne Business Banking Centre</td>\n",
       "      <td>NaN</td>\n",
       "      <td>Senior Partner</td>\n",
       "      <td>191517.0</td>\n",
       "      <td>2006-08-01</td>\n",
       "      <td>1912.0000</td>\n",
       "      <td>941.0968</td>\n",
       "    </tr>\n",
       "    <tr>\n",
       "      <th>39533</th>\n",
       "      <td>39533</td>\n",
       "      <td>46.0</td>\n",
       "      <td>151686.0</td>\n",
       "      <td>71b7f012-183c-43c8-a9af-b39a1b9a89a0-2.png</td>\n",
       "      <td>National Australia Bank</td>\n",
       "      <td>27944.0</td>\n",
       "      <td>http://www.nab.com.au</td>\n",
       "      <td>urn:li:company:2357</td>\n",
       "      <td>362.0</td>\n",
       "      <td>au</td>\n",
       "      <td>...</td>\n",
       "      <td>urn:li:fs_region:(au,4900)</td>\n",
       "      <td>Head Of (Distributed) Credit, Vic/Tas at Natio...</td>\n",
       "      <td>urn:li:member:9985941</td>\n",
       "      <td>St Kilda Rd Melbourne Business Banking Centre</td>\n",
       "      <td>NaN</td>\n",
       "      <td>Senior Business Banking Manager / Partner 4</td>\n",
       "      <td>191518.0</td>\n",
       "      <td>2003-08-01</td>\n",
       "      <td>1912.0000</td>\n",
       "      <td>941.0968</td>\n",
       "    </tr>\n",
       "    <tr>\n",
       "      <th>39534</th>\n",
       "      <td>39534</td>\n",
       "      <td>46.0</td>\n",
       "      <td>151686.0</td>\n",
       "      <td>71b7f012-183c-43c8-a9af-b39a1b9a89a0-2.png</td>\n",
       "      <td>National Australia Bank</td>\n",
       "      <td>27944.0</td>\n",
       "      <td>http://www.nab.com.au</td>\n",
       "      <td>urn:li:company:2357</td>\n",
       "      <td>362.0</td>\n",
       "      <td>au</td>\n",
       "      <td>...</td>\n",
       "      <td>urn:li:fs_region:(au,4900)</td>\n",
       "      <td>Head Of (Distributed) Credit, Vic/Tas at Natio...</td>\n",
       "      <td>urn:li:member:9985941</td>\n",
       "      <td>St Kilda Rd Melbourne &amp; Bourke and Russell St ...</td>\n",
       "      <td>NaN</td>\n",
       "      <td>Business Banking Manager / Partner 3</td>\n",
       "      <td>191519.0</td>\n",
       "      <td>2000-06-01</td>\n",
       "      <td>1912.0000</td>\n",
       "      <td>941.0968</td>\n",
       "    </tr>\n",
       "    <tr>\n",
       "      <th>39535</th>\n",
       "      <td>39535</td>\n",
       "      <td>46.0</td>\n",
       "      <td>151686.0</td>\n",
       "      <td>71b7f012-183c-43c8-a9af-b39a1b9a89a0-2.png</td>\n",
       "      <td>National Australia Bank</td>\n",
       "      <td>27944.0</td>\n",
       "      <td>http://www.nab.com.au</td>\n",
       "      <td>urn:li:company:2357</td>\n",
       "      <td>362.0</td>\n",
       "      <td>au</td>\n",
       "      <td>...</td>\n",
       "      <td>urn:li:fs_region:(au,4900)</td>\n",
       "      <td>Head Of (Distributed) Credit, Vic/Tas at Natio...</td>\n",
       "      <td>urn:li:member:9985941</td>\n",
       "      <td>Melbourne Office Business Banking Centre</td>\n",
       "      <td>NaN</td>\n",
       "      <td>Business Banking Officer</td>\n",
       "      <td>191520.0</td>\n",
       "      <td>1995-11-01</td>\n",
       "      <td>1912.0000</td>\n",
       "      <td>941.0968</td>\n",
       "    </tr>\n",
       "    <tr>\n",
       "      <th>39536</th>\n",
       "      <td>39536</td>\n",
       "      <td>46.0</td>\n",
       "      <td>151686.0</td>\n",
       "      <td>71b7f012-183c-43c8-a9af-b39a1b9a89a0-2.png</td>\n",
       "      <td>National Australia Bank</td>\n",
       "      <td>27944.0</td>\n",
       "      <td>http://www.nab.com.au</td>\n",
       "      <td>urn:li:company:2357</td>\n",
       "      <td>362.0</td>\n",
       "      <td>au</td>\n",
       "      <td>...</td>\n",
       "      <td>urn:li:fs_region:(au,4900)</td>\n",
       "      <td>Head Of (Distributed) Credit, Vic/Tas at Natio...</td>\n",
       "      <td>urn:li:member:9985941</td>\n",
       "      <td>271 Collins St Melbourne</td>\n",
       "      <td>NaN</td>\n",
       "      <td>Various customer service roles including inter...</td>\n",
       "      <td>191521.0</td>\n",
       "      <td>1989-02-01</td>\n",
       "      <td>1912.0000</td>\n",
       "      <td>941.0968</td>\n",
       "    </tr>\n",
       "  </tbody>\n",
       "</table>\n",
       "<p>39537 rows × 27 columns</p>\n",
       "</div>"
      ],
      "text/plain": [
       "       Unnamed: 0  ageEstimate  companyFollowerCount  \\\n",
       "0               0         41.0              198859.0   \n",
       "1               1         41.0              198859.0   \n",
       "2               2         41.0               10047.0   \n",
       "3               3         41.0              198859.0   \n",
       "4               4         30.0              300723.0   \n",
       "...           ...          ...                   ...   \n",
       "39532       39532         46.0              151686.0   \n",
       "39533       39533         46.0              151686.0   \n",
       "39534       39534         46.0              151686.0   \n",
       "39535       39535         46.0              151686.0   \n",
       "39536       39536         46.0              151686.0   \n",
       "\n",
       "                                   companyHasLogo              companyName  \\\n",
       "0      5a92c12e-0a20-482b-95ec-e705a6294730-2.png        Commonwealth Bank   \n",
       "1      5a92c12e-0a20-482b-95ec-e705a6294730-2.png        Commonwealth Bank   \n",
       "2      b1c3fd9a-8f21-48f8-8321-d773b1ff3cb7-2.png                  CommSec   \n",
       "3      5a92c12e-0a20-482b-95ec-e705a6294730-2.png        Commonwealth Bank   \n",
       "4      0f982557-a907-409e-af20-1feb0e0813cd-2.png                   PayPal   \n",
       "...                                           ...                      ...   \n",
       "39532  71b7f012-183c-43c8-a9af-b39a1b9a89a0-2.png  National Australia Bank   \n",
       "39533  71b7f012-183c-43c8-a9af-b39a1b9a89a0-2.png  National Australia Bank   \n",
       "39534  71b7f012-183c-43c8-a9af-b39a1b9a89a0-2.png  National Australia Bank   \n",
       "39535  71b7f012-183c-43c8-a9af-b39a1b9a89a0-2.png  National Australia Bank   \n",
       "39536  71b7f012-183c-43c8-a9af-b39a1b9a89a0-2.png  National Australia Bank   \n",
       "\n",
       "       companyStaffCount                   companyUrl           companyUrn  \\\n",
       "0                32905.0  http://www.commbank.com.au/  urn:li:company:2848   \n",
       "1                32905.0  http://www.commbank.com.au/  urn:li:company:2848   \n",
       "2                  619.0    http://www.commsec.com.au  urn:li:company:2851   \n",
       "3                32905.0  http://www.commbank.com.au/  urn:li:company:2848   \n",
       "4                22522.0        http://www.paypal.com  urn:li:company:1482   \n",
       "...                  ...                          ...                  ...   \n",
       "39532            27944.0        http://www.nab.com.au  urn:li:company:2357   \n",
       "39533            27944.0        http://www.nab.com.au  urn:li:company:2357   \n",
       "39534            27944.0        http://www.nab.com.au  urn:li:company:2357   \n",
       "39535            27944.0        http://www.nab.com.au  urn:li:company:2357   \n",
       "39536            27944.0        http://www.nab.com.au  urn:li:company:2357   \n",
       "\n",
       "       connectionsCount country  ...             mbrLocationCode  \\\n",
       "0                 500.0      au  ...  urn:li:fs_region:(au,4910)   \n",
       "1                 500.0      au  ...  urn:li:fs_region:(au,4910)   \n",
       "2                 500.0      au  ...  urn:li:fs_region:(au,4910)   \n",
       "3                 500.0      au  ...  urn:li:fs_region:(au,4910)   \n",
       "4                 500.0      au  ...  urn:li:fs_region:(au,4910)   \n",
       "...                 ...     ...  ...                         ...   \n",
       "39532             362.0      au  ...  urn:li:fs_region:(au,4900)   \n",
       "39533             362.0      au  ...  urn:li:fs_region:(au,4900)   \n",
       "39534             362.0      au  ...  urn:li:fs_region:(au,4900)   \n",
       "39535             362.0      au  ...  urn:li:fs_region:(au,4900)   \n",
       "39536             362.0      au  ...  urn:li:fs_region:(au,4900)   \n",
       "\n",
       "                                                mbrTitle  \\\n",
       "0               Portfolio Executive at Commonwealth Bank   \n",
       "1               Portfolio Executive at Commonwealth Bank   \n",
       "2               Portfolio Executive at Commonwealth Bank   \n",
       "3               Portfolio Executive at Commonwealth Bank   \n",
       "4                       Senior Marketing Manager, PayPal   \n",
       "...                                                  ...   \n",
       "39532  Head Of (Distributed) Credit, Vic/Tas at Natio...   \n",
       "39533  Head Of (Distributed) Credit, Vic/Tas at Natio...   \n",
       "39534  Head Of (Distributed) Credit, Vic/Tas at Natio...   \n",
       "39535  Head Of (Distributed) Credit, Vic/Tas at Natio...   \n",
       "39536  Head Of (Distributed) Credit, Vic/Tas at Natio...   \n",
       "\n",
       "                     memberUrn  \\\n",
       "0       urn:li:member:10013136   \n",
       "1       urn:li:member:10013136   \n",
       "2       urn:li:member:10013136   \n",
       "3       urn:li:member:10013136   \n",
       "4      urn:li:member:100186032   \n",
       "...                        ...   \n",
       "39532    urn:li:member:9985941   \n",
       "39533    urn:li:member:9985941   \n",
       "39534    urn:li:member:9985941   \n",
       "39535    urn:li:member:9985941   \n",
       "39536    urn:li:member:9985941   \n",
       "\n",
       "                                             posLocation  \\\n",
       "0                                                    NaN   \n",
       "1                                      Sydney, Australia   \n",
       "2                                                    NaN   \n",
       "3                                                    NaN   \n",
       "4                                                    NaN   \n",
       "...                                                  ...   \n",
       "39532      St Kilda Rd Melbourne Business Banking Centre   \n",
       "39533      St Kilda Rd Melbourne Business Banking Centre   \n",
       "39534  St Kilda Rd Melbourne & Bourke and Russell St ...   \n",
       "39535           Melbourne Office Business Banking Centre   \n",
       "39536                           271 Collins St Melbourne   \n",
       "\n",
       "                  posLocationCode  \\\n",
       "0                             NaN   \n",
       "1      urn:li:fs_region:(au,4910)   \n",
       "2                             NaN   \n",
       "3                             NaN   \n",
       "4                             NaN   \n",
       "...                           ...   \n",
       "39532                         NaN   \n",
       "39533                         NaN   \n",
       "39534                         NaN   \n",
       "39535                         NaN   \n",
       "39536                         NaN   \n",
       "\n",
       "                                                posTitle positionId  \\\n",
       "0                                    Portfolio Executive   240345.0   \n",
       "1                            Solution Delivery Executive   240346.0   \n",
       "2                                        Project Manager   240348.0   \n",
       "3                                        Project Manager   240350.0   \n",
       "4                               Senior Marketing Manager   229893.0   \n",
       "...                                                  ...        ...   \n",
       "39532                                     Senior Partner   191517.0   \n",
       "39533        Senior Business Banking Manager / Partner 4   191518.0   \n",
       "39534               Business Banking Manager / Partner 3   191519.0   \n",
       "39535                           Business Banking Officer   191520.0   \n",
       "39536  Various customer service roles including inter...   191521.0   \n",
       "\n",
       "        startDate avgMemberPosDuration avgCompanyPosDuration  \n",
       "0      2014-07-01             760.5000              989.9361  \n",
       "1      2013-11-01             760.5000              989.9361  \n",
       "2      2008-08-01             760.5000              747.2308  \n",
       "3      2007-02-01             760.5000              989.9361  \n",
       "4      2017-01-01             395.2857              683.3496  \n",
       "...           ...                  ...                   ...  \n",
       "39532  2006-08-01            1912.0000              941.0968  \n",
       "39533  2003-08-01            1912.0000              941.0968  \n",
       "39534  2000-06-01            1912.0000              941.0968  \n",
       "39535  1995-11-01            1912.0000              941.0968  \n",
       "39536  1989-02-01            1912.0000              941.0968  \n",
       "\n",
       "[39537 rows x 27 columns]"
      ]
     },
     "execution_count": 3,
     "metadata": {},
     "output_type": "execute_result"
    }
   ],
   "source": [
    "df"
   ]
  },
  {
   "cell_type": "code",
   "execution_count": 4,
   "id": "8743b508-4944-49a9-8fed-4fcfe796772c",
   "metadata": {},
   "outputs": [
    {
     "data": {
      "text/plain": [
       "Unnamed: 0                   0\n",
       "ageEstimate                  0\n",
       "companyFollowerCount      1466\n",
       "companyHasLogo            3130\n",
       "companyName                  2\n",
       "companyStaffCount         1136\n",
       "companyUrl                2088\n",
       "companyUrn                   0\n",
       "connectionsCount             0\n",
       "country                      0\n",
       "endDate                   8911\n",
       "followable                   0\n",
       "followersCount               0\n",
       "genderEstimate            3970\n",
       "hasPicture                9936\n",
       "isPremium                    0\n",
       "mbrLocation                  0\n",
       "mbrLocationCode            148\n",
       "mbrTitle                     0\n",
       "memberUrn                    0\n",
       "posLocation              11126\n",
       "posLocationCode          22570\n",
       "posTitle                     0\n",
       "positionId                   0\n",
       "startDate                   16\n",
       "avgMemberPosDuration       225\n",
       "avgCompanyPosDuration      851\n",
       "dtype: int64"
      ]
     },
     "execution_count": 4,
     "metadata": {},
     "output_type": "execute_result"
    }
   ],
   "source": [
    "df.isnull().sum()"
   ]
  },
  {
   "cell_type": "code",
   "execution_count": 5,
   "id": "642e133e-4eab-494d-ab7c-c30a463f48ef",
   "metadata": {},
   "outputs": [],
   "source": [
    "df.drop([\"companyFollowerCount\",\"companyHasLogo\",\"companyStaffCount\",\"companyUrl\",\"companyUrn\",\"endDate\",\"hasPicture\",\"memberUrn\",\"mbrLocation\",\"mbrLocationCode\",\"mbrTitle\",\"posLocation\",\"posLocationCode\",\"positionId\"], axis = 1, inplace = True )"
   ]
  },
  {
   "cell_type": "code",
   "execution_count": 6,
   "id": "384a76a8-5c82-4578-a919-00119b73c7c3",
   "metadata": {},
   "outputs": [
    {
     "data": {
      "text/plain": [
       "Unnamed: 0                  0\n",
       "ageEstimate                 0\n",
       "companyName                 2\n",
       "connectionsCount            0\n",
       "country                     0\n",
       "followable                  0\n",
       "followersCount              0\n",
       "genderEstimate           3970\n",
       "isPremium                   0\n",
       "posTitle                    0\n",
       "startDate                  16\n",
       "avgMemberPosDuration      225\n",
       "avgCompanyPosDuration     851\n",
       "dtype: int64"
      ]
     },
     "execution_count": 6,
     "metadata": {},
     "output_type": "execute_result"
    }
   ],
   "source": [
    "df.isnull().sum()"
   ]
  },
  {
   "cell_type": "code",
   "execution_count": 7,
   "id": "d5996821-bd02-4009-94cf-7bd8811ba5fb",
   "metadata": {},
   "outputs": [],
   "source": [
    "df.dropna(axis = 0,inplace=True)"
   ]
  },
  {
   "cell_type": "code",
   "execution_count": 8,
   "id": "4df18077-28ce-4e8c-8134-e11c84237291",
   "metadata": {},
   "outputs": [
    {
     "data": {
      "text/plain": [
       "Unnamed: 0               0\n",
       "ageEstimate              0\n",
       "companyName              0\n",
       "connectionsCount         0\n",
       "country                  0\n",
       "followable               0\n",
       "followersCount           0\n",
       "genderEstimate           0\n",
       "isPremium                0\n",
       "posTitle                 0\n",
       "startDate                0\n",
       "avgMemberPosDuration     0\n",
       "avgCompanyPosDuration    0\n",
       "dtype: int64"
      ]
     },
     "execution_count": 8,
     "metadata": {},
     "output_type": "execute_result"
    }
   ],
   "source": [
    "df.isnull().sum()"
   ]
  },
  {
   "cell_type": "code",
   "execution_count": 9,
   "id": "52ed3033-7814-4953-aef3-824305fa9727",
   "metadata": {},
   "outputs": [
    {
     "data": {
      "text/plain": [
       "Unnamed: 0                 int64\n",
       "ageEstimate              float64\n",
       "companyName               object\n",
       "connectionsCount         float64\n",
       "country                   object\n",
       "followable               float64\n",
       "followersCount           float64\n",
       "genderEstimate            object\n",
       "isPremium                float64\n",
       "posTitle                  object\n",
       "startDate                 object\n",
       "avgMemberPosDuration     float64\n",
       "avgCompanyPosDuration    float64\n",
       "dtype: object"
      ]
     },
     "execution_count": 9,
     "metadata": {},
     "output_type": "execute_result"
    }
   ],
   "source": [
    "df.dtypes"
   ]
  },
  {
   "cell_type": "code",
   "execution_count": 10,
   "id": "480b9a8f-5b67-4d94-9fd8-eb6e2953fa45",
   "metadata": {},
   "outputs": [],
   "source": [
    "df.ageEstimate = df.ageEstimate.astype(\"int\")"
   ]
  },
  {
   "cell_type": "code",
   "execution_count": 11,
   "id": "61fee96d-c8c9-4aa5-a059-64febc67d0da",
   "metadata": {},
   "outputs": [
    {
     "data": {
      "text/plain": [
       "<Axes: >"
      ]
     },
     "execution_count": 11,
     "metadata": {},
     "output_type": "execute_result"
    },
    {
     "data": {
      "image/png": "[encoded data removed]",
      "text/plain": [
       "<Figure size 640x480 with 1 Axes>"
      ]
     },
     "metadata": {},
     "output_type": "display_data"
    }
   ],
   "source": [
    "df.agg({'ageEstimate':['mean','median','max','min']}).plot(kind = 'barh')"
   ]
  },
  {
   "cell_type": "markdown",
   "id": "d6353b94-0f32-4eab-a6e9-fe5e8997bbf0",
   "metadata": {},
   "source": [
    "Maximum Age of the User = 82 ,\n",
    "\n",
    "Minimum Age of THE User = 20,\n",
    "\n",
    "Median age/ Mid value = 38,\n",
    "\n",
    "Mean value/ average value = 38.59\n"
   ]
  },
  {
   "cell_type": "code",
   "execution_count": 12,
   "id": "2e589e03-ca3c-4e37-95ff-9d521b720f8c",
   "metadata": {},
   "outputs": [],
   "source": [
    "def age_cal(ageEstimate):\n",
    "    if ageEstimate < 30:\n",
    "        return \"Young Adult\"\n",
    "    elif ageEstimate>=30 and ageEstimate <50:\n",
    "        return \"Adult\"\n",
    "    elif ageEstimate>=50:\n",
    "        return \"Old\""
   ]
  },
  {
   "cell_type": "code",
   "execution_count": 13,
   "id": "73c46927-1230-427a-b8f7-faeff5f8f647",
   "metadata": {},
   "outputs": [],
   "source": [
    "df.ageEstimate =df.ageEstimate.apply(age_cal) "
   ]
  },
  {
   "cell_type": "code",
   "execution_count": 43,
   "id": "170bd1dc-a07a-4f5f-8bc3-4769244e4d0f",
   "metadata": {},
   "outputs": [
    {
     "data": {
      "text/plain": [
       "<Axes: >"
      ]
     },
     "execution_count": 43,
     "metadata": {},
     "output_type": "execute_result"
    },
    {
     "data": {
      "image/png": "[encoded data removed]",
      "text/plain": [
       "<Figure size 640x480 with 1 Axes>"
      ]
     },
     "metadata": {},
     "output_type": "display_data"
    }
   ],
   "source": [
    "df.ageEstimate.value_counts().plot(kind = \"pie\" , ylabel = '',autopct = \"%.2f%%\")"
   ]
  },
  {
   "cell_type": "markdown",
   "id": "75c823c1-5ca3-46bf-88c5-9eb08bfe128f",
   "metadata": {},
   "source": [
    "Adult = 23168,\n",
    "\n",
    "Young Adul =  689,\n",
    "\r\n",
    "ldO =   4549"
   ]
  },
  {
   "cell_type": "code",
   "execution_count": 15,
   "id": "c36464ad-2a13-4f54-8de1-6115ce07c98b",
   "metadata": {},
   "outputs": [
    {
     "data": {
      "text/html": [
       "<div>\n",
       "<style scoped>\n",
       "    .dataframe tbody tr th:only-of-type {\n",
       "        vertical-align: middle;\n",
       "    }\n",
       "\n",
       "    .dataframe tbody tr th {\n",
       "        vertical-align: top;\n",
       "    }\n",
       "\n",
       "    .dataframe thead th {\n",
       "        text-align: right;\n",
       "    }\n",
       "</style>\n",
       "<table border=\"1\" class=\"dataframe\">\n",
       "  <thead>\n",
       "    <tr style=\"text-align: right;\">\n",
       "      <th></th>\n",
       "      <th>Unnamed: 0</th>\n",
       "      <th>ageEstimate</th>\n",
       "      <th>companyName</th>\n",
       "      <th>connectionsCount</th>\n",
       "      <th>country</th>\n",
       "      <th>followable</th>\n",
       "      <th>followersCount</th>\n",
       "      <th>genderEstimate</th>\n",
       "      <th>isPremium</th>\n",
       "      <th>posTitle</th>\n",
       "      <th>startDate</th>\n",
       "      <th>avgMemberPosDuration</th>\n",
       "      <th>avgCompanyPosDuration</th>\n",
       "    </tr>\n",
       "  </thead>\n",
       "  <tbody>\n",
       "    <tr>\n",
       "      <th>0</th>\n",
       "      <td>0</td>\n",
       "      <td>Adult</td>\n",
       "      <td>Commonwealth Bank</td>\n",
       "      <td>500.0</td>\n",
       "      <td>au</td>\n",
       "      <td>1.0</td>\n",
       "      <td>506.0</td>\n",
       "      <td>male</td>\n",
       "      <td>0.0</td>\n",
       "      <td>Portfolio Executive</td>\n",
       "      <td>2014-07-01</td>\n",
       "      <td>760.5000</td>\n",
       "      <td>989.9361</td>\n",
       "    </tr>\n",
       "    <tr>\n",
       "      <th>1</th>\n",
       "      <td>1</td>\n",
       "      <td>Adult</td>\n",
       "      <td>Commonwealth Bank</td>\n",
       "      <td>500.0</td>\n",
       "      <td>au</td>\n",
       "      <td>1.0</td>\n",
       "      <td>506.0</td>\n",
       "      <td>male</td>\n",
       "      <td>0.0</td>\n",
       "      <td>Solution Delivery Executive</td>\n",
       "      <td>2013-11-01</td>\n",
       "      <td>760.5000</td>\n",
       "      <td>989.9361</td>\n",
       "    </tr>\n",
       "    <tr>\n",
       "      <th>2</th>\n",
       "      <td>2</td>\n",
       "      <td>Adult</td>\n",
       "      <td>CommSec</td>\n",
       "      <td>500.0</td>\n",
       "      <td>au</td>\n",
       "      <td>1.0</td>\n",
       "      <td>506.0</td>\n",
       "      <td>male</td>\n",
       "      <td>0.0</td>\n",
       "      <td>Project Manager</td>\n",
       "      <td>2008-08-01</td>\n",
       "      <td>760.5000</td>\n",
       "      <td>747.2308</td>\n",
       "    </tr>\n",
       "    <tr>\n",
       "      <th>3</th>\n",
       "      <td>3</td>\n",
       "      <td>Adult</td>\n",
       "      <td>Commonwealth Bank</td>\n",
       "      <td>500.0</td>\n",
       "      <td>au</td>\n",
       "      <td>1.0</td>\n",
       "      <td>506.0</td>\n",
       "      <td>male</td>\n",
       "      <td>0.0</td>\n",
       "      <td>Project Manager</td>\n",
       "      <td>2007-02-01</td>\n",
       "      <td>760.5000</td>\n",
       "      <td>989.9361</td>\n",
       "    </tr>\n",
       "    <tr>\n",
       "      <th>4</th>\n",
       "      <td>4</td>\n",
       "      <td>Adult</td>\n",
       "      <td>PayPal</td>\n",
       "      <td>500.0</td>\n",
       "      <td>au</td>\n",
       "      <td>1.0</td>\n",
       "      <td>951.0</td>\n",
       "      <td>female</td>\n",
       "      <td>0.0</td>\n",
       "      <td>Senior Marketing Manager</td>\n",
       "      <td>2017-01-01</td>\n",
       "      <td>395.2857</td>\n",
       "      <td>683.3496</td>\n",
       "    </tr>\n",
       "    <tr>\n",
       "      <th>...</th>\n",
       "      <td>...</td>\n",
       "      <td>...</td>\n",
       "      <td>...</td>\n",
       "      <td>...</td>\n",
       "      <td>...</td>\n",
       "      <td>...</td>\n",
       "      <td>...</td>\n",
       "      <td>...</td>\n",
       "      <td>...</td>\n",
       "      <td>...</td>\n",
       "      <td>...</td>\n",
       "      <td>...</td>\n",
       "      <td>...</td>\n",
       "    </tr>\n",
       "    <tr>\n",
       "      <th>39532</th>\n",
       "      <td>39532</td>\n",
       "      <td>Adult</td>\n",
       "      <td>National Australia Bank</td>\n",
       "      <td>362.0</td>\n",
       "      <td>au</td>\n",
       "      <td>1.0</td>\n",
       "      <td>363.0</td>\n",
       "      <td>male</td>\n",
       "      <td>0.0</td>\n",
       "      <td>Senior Partner</td>\n",
       "      <td>2006-08-01</td>\n",
       "      <td>1912.0000</td>\n",
       "      <td>941.0968</td>\n",
       "    </tr>\n",
       "    <tr>\n",
       "      <th>39533</th>\n",
       "      <td>39533</td>\n",
       "      <td>Adult</td>\n",
       "      <td>National Australia Bank</td>\n",
       "      <td>362.0</td>\n",
       "      <td>au</td>\n",
       "      <td>1.0</td>\n",
       "      <td>363.0</td>\n",
       "      <td>male</td>\n",
       "      <td>0.0</td>\n",
       "      <td>Senior Business Banking Manager / Partner 4</td>\n",
       "      <td>2003-08-01</td>\n",
       "      <td>1912.0000</td>\n",
       "      <td>941.0968</td>\n",
       "    </tr>\n",
       "    <tr>\n",
       "      <th>39534</th>\n",
       "      <td>39534</td>\n",
       "      <td>Adult</td>\n",
       "      <td>National Australia Bank</td>\n",
       "      <td>362.0</td>\n",
       "      <td>au</td>\n",
       "      <td>1.0</td>\n",
       "      <td>363.0</td>\n",
       "      <td>male</td>\n",
       "      <td>0.0</td>\n",
       "      <td>Business Banking Manager / Partner 3</td>\n",
       "      <td>2000-06-01</td>\n",
       "      <td>1912.0000</td>\n",
       "      <td>941.0968</td>\n",
       "    </tr>\n",
       "    <tr>\n",
       "      <th>39535</th>\n",
       "      <td>39535</td>\n",
       "      <td>Adult</td>\n",
       "      <td>National Australia Bank</td>\n",
       "      <td>362.0</td>\n",
       "      <td>au</td>\n",
       "      <td>1.0</td>\n",
       "      <td>363.0</td>\n",
       "      <td>male</td>\n",
       "      <td>0.0</td>\n",
       "      <td>Business Banking Officer</td>\n",
       "      <td>1995-11-01</td>\n",
       "      <td>1912.0000</td>\n",
       "      <td>941.0968</td>\n",
       "    </tr>\n",
       "    <tr>\n",
       "      <th>39536</th>\n",
       "      <td>39536</td>\n",
       "      <td>Adult</td>\n",
       "      <td>National Australia Bank</td>\n",
       "      <td>362.0</td>\n",
       "      <td>au</td>\n",
       "      <td>1.0</td>\n",
       "      <td>363.0</td>\n",
       "      <td>male</td>\n",
       "      <td>0.0</td>\n",
       "      <td>Various customer service roles including inter...</td>\n",
       "      <td>1989-02-01</td>\n",
       "      <td>1912.0000</td>\n",
       "      <td>941.0968</td>\n",
       "    </tr>\n",
       "  </tbody>\n",
       "</table>\n",
       "<p>34614 rows × 13 columns</p>\n",
       "</div>"
      ],
      "text/plain": [
       "       Unnamed: 0 ageEstimate              companyName  connectionsCount  \\\n",
       "0               0       Adult        Commonwealth Bank             500.0   \n",
       "1               1       Adult        Commonwealth Bank             500.0   \n",
       "2               2       Adult                  CommSec             500.0   \n",
       "3               3       Adult        Commonwealth Bank             500.0   \n",
       "4               4       Adult                   PayPal             500.0   \n",
       "...           ...         ...                      ...               ...   \n",
       "39532       39532       Adult  National Australia Bank             362.0   \n",
       "39533       39533       Adult  National Australia Bank             362.0   \n",
       "39534       39534       Adult  National Australia Bank             362.0   \n",
       "39535       39535       Adult  National Australia Bank             362.0   \n",
       "39536       39536       Adult  National Australia Bank             362.0   \n",
       "\n",
       "      country  followable  followersCount genderEstimate  isPremium  \\\n",
       "0          au         1.0           506.0           male        0.0   \n",
       "1          au         1.0           506.0           male        0.0   \n",
       "2          au         1.0           506.0           male        0.0   \n",
       "3          au         1.0           506.0           male        0.0   \n",
       "4          au         1.0           951.0         female        0.0   \n",
       "...       ...         ...             ...            ...        ...   \n",
       "39532      au         1.0           363.0           male        0.0   \n",
       "39533      au         1.0           363.0           male        0.0   \n",
       "39534      au         1.0           363.0           male        0.0   \n",
       "39535      au         1.0           363.0           male        0.0   \n",
       "39536      au         1.0           363.0           male        0.0   \n",
       "\n",
       "                                                posTitle   startDate  \\\n",
       "0                                    Portfolio Executive  2014-07-01   \n",
       "1                            Solution Delivery Executive  2013-11-01   \n",
       "2                                        Project Manager  2008-08-01   \n",
       "3                                        Project Manager  2007-02-01   \n",
       "4                               Senior Marketing Manager  2017-01-01   \n",
       "...                                                  ...         ...   \n",
       "39532                                     Senior Partner  2006-08-01   \n",
       "39533        Senior Business Banking Manager / Partner 4  2003-08-01   \n",
       "39534               Business Banking Manager / Partner 3  2000-06-01   \n",
       "39535                           Business Banking Officer  1995-11-01   \n",
       "39536  Various customer service roles including inter...  1989-02-01   \n",
       "\n",
       "       avgMemberPosDuration  avgCompanyPosDuration  \n",
       "0                  760.5000               989.9361  \n",
       "1                  760.5000               989.9361  \n",
       "2                  760.5000               747.2308  \n",
       "3                  760.5000               989.9361  \n",
       "4                  395.2857               683.3496  \n",
       "...                     ...                    ...  \n",
       "39532             1912.0000               941.0968  \n",
       "39533             1912.0000               941.0968  \n",
       "39534             1912.0000               941.0968  \n",
       "39535             1912.0000               941.0968  \n",
       "39536             1912.0000               941.0968  \n",
       "\n",
       "[34614 rows x 13 columns]"
      ]
     },
     "execution_count": 15,
     "metadata": {},
     "output_type": "execute_result"
    }
   ],
   "source": [
    "df"
   ]
  },
  {
   "cell_type": "code",
   "execution_count": 16,
   "id": "5aeaf18a-28a1-400f-896c-82583786fdbf",
   "metadata": {},
   "outputs": [
    {
     "data": {
      "text/plain": [
       "companyName\n",
       "Telstra                                                612\n",
       "National Australia Bank                                459\n",
       "Commonwealth Bank                                      386\n",
       "IBM                                                    318\n",
       "ANZ                                                    235\n",
       "                                                      ... \n",
       "Ministry of Transport and Telecommunications(Chile)      1\n",
       "Department of Emergency Services                         1\n",
       "DBG Technologies                                         1\n",
       "Vale                                                     1\n",
       "The Jim Henson Company                                   1\n",
       "Name: count, Length: 11869, dtype: int64"
      ]
     },
     "execution_count": 16,
     "metadata": {},
     "output_type": "execute_result"
    }
   ],
   "source": [
    "df.companyName.value_counts()"
   ]
  },
  {
   "cell_type": "code",
   "execution_count": 17,
   "id": "d626f32b-95ec-43f6-9774-98011b7d2850",
   "metadata": {},
   "outputs": [
    {
     "data": {
      "text/plain": [
       "<Axes: >"
      ]
     },
     "execution_count": 17,
     "metadata": {},
     "output_type": "execute_result"
    },
    {
     "data": {
      "image/png": "[encoded data removed]",
      "text/plain": [
       "<Figure size 640x480 with 1 Axes>"
      ]
     },
     "metadata": {},
     "output_type": "display_data"
    }
   ],
   "source": [
    "df.agg({'connectionsCount':['mean','median','max','min']}).plot(kind = 'barh')"
   ]
  },
  {
   "cell_type": "markdown",
   "id": "9e800d76-e7ac-4af2-a76e-0a77611ea369",
   "metadata": {},
   "source": [
    "mean- 424.573159\n",
    "\n",
    "median - 500.000000\n",
    "\n",
    "max - 500.000000\n",
    "\n",
    "min - 0.000000"
   ]
  },
  {
   "cell_type": "code",
   "execution_count": 48,
   "id": "2c7cd2ec-ce36-4673-bcf6-9bd735bb7a28",
   "metadata": {},
   "outputs": [
    {
     "data": {
      "text/plain": [
       "<Axes: xlabel='country'>"
      ]
     },
     "execution_count": 48,
     "metadata": {},
     "output_type": "execute_result"
    },
    {
     "data": {
      "image/png": "[encoded data removed]",
      "text/plain": [
       "<Figure size 640x480 with 1 Axes>"
      ]
     },
     "metadata": {},
     "output_type": "display_data"
    }
   ],
   "source": [
    "df.country.value_counts().plot(kind=\"bar\")"
   ]
  },
  {
   "cell_type": "code",
   "execution_count": 19,
   "id": "2101907e-e27b-46ef-9fce-2f3017e9809a",
   "metadata": {},
   "outputs": [],
   "source": [
    "def can_follow(followable):\n",
    "    if followable == 1:\n",
    "        return \"Followable\"\n",
    "    else:\n",
    "        return \"Not Followable\""
   ]
  },
  {
   "cell_type": "code",
   "execution_count": 20,
   "id": "d94f318d-2dbb-4af2-b654-fddcd7838b4b",
   "metadata": {},
   "outputs": [],
   "source": [
    "df.followable = df.followable.apply(can_follow)"
   ]
  },
  {
   "cell_type": "code",
   "execution_count": 21,
   "id": "69183467-4e08-409d-8c8e-38b9f911a036",
   "metadata": {},
   "outputs": [
    {
     "data": {
      "text/plain": [
       "<Axes: >"
      ]
     },
     "execution_count": 21,
     "metadata": {},
     "output_type": "execute_result"
    },
    {
     "data": {
      "image/png": "[encoded data removed]",
      "text/plain": [
       "<Figure size 640x480 with 1 Axes>"
      ]
     },
     "metadata": {},
     "output_type": "display_data"
    }
   ],
   "source": [
    "df.followable.value_counts().plot(kind = \"pie\",ylabel = '',autopct = '%.1f%%')"
   ]
  },
  {
   "cell_type": "markdown",
   "id": "78cb8f89-5638-424c-abc7-8778c1eeb7c9",
   "metadata": {},
   "source": [
    "Followable = 32906\n",
    "\r\n",
    "No_ Followabl =  1708"
   ]
  },
  {
   "cell_type": "code",
   "execution_count": 22,
   "id": "a8749f77-88fd-43e3-95e5-8e2874463fce",
   "metadata": {},
   "outputs": [
    {
     "data": {
      "text/plain": [
       "<Axes: >"
      ]
     },
     "execution_count": 22,
     "metadata": {},
     "output_type": "execute_result"
    },
    {
     "data": {
      "image/png": "[encoded data removed]",
      "text/plain": [
       "<Figure size 640x480 with 1 Axes>"
      ]
     },
     "metadata": {},
     "output_type": "display_data"
    }
   ],
   "source": [
    "df.agg({'followersCount':['mean','median','max','min']}).plot(kind = \"bar\")"
   ]
  },
  {
   "cell_type": "markdown",
   "id": "c82985fe-9be4-4d62-b1bb-11f99de4351b",
   "metadata": {},
   "source": [
    "mean = 1181.92\n",
    "\r\n",
    "media= \t65\n",
    "\n",
    "0maximum value = x\t1619\n",
    "\n",
    "00\r\n",
    "imum value = i000"
   ]
  },
  {
   "cell_type": "code",
   "execution_count": 23,
   "id": "96a1e210-ee0a-4311-a862-79f8a9569dae",
   "metadata": {},
   "outputs": [
    {
     "data": {
      "text/plain": [
       "<Axes: >"
      ]
     },
     "execution_count": 23,
     "metadata": {},
     "output_type": "execute_result"
    },
    {
     "data": {
      "image/png": "[encoded data removed]",
      "text/plain": [
       "<Figure size 640x480 with 1 Axes>"
      ]
     },
     "metadata": {},
     "output_type": "display_data"
    }
   ],
   "source": [
    "df.genderEstimate.value_counts().plot(kind =\"pie\",ylabel = '')"
   ]
  },
  {
   "cell_type": "code",
   "execution_count": 24,
   "id": "8375f12d-bb5a-4325-bfbb-15dedf9c7803",
   "metadata": {},
   "outputs": [
    {
     "data": {
      "text/plain": [
       "<Axes: xlabel='Post Tittle', ylabel='posTitle'>"
      ]
     },
     "execution_count": 24,
     "metadata": {},
     "output_type": "execute_result"
    },
    {
     "data": {
      "image/png": "[encoded data removed]",
      "text/plain": [
       "<Figure size 640x480 with 1 Axes>"
      ]
     },
     "metadata": {},
     "output_type": "display_data"
    }
   ],
   "source": [
    "df.posTitle.value_counts().head(3).plot(kind = \"barh\", xlabel = 'Post Tittle')"
   ]
  },
  {
   "cell_type": "markdown",
   "id": "b66fbe00-121c-4b80-a63a-e4708674c581",
   "metadata": {},
   "source": [
    "Project Manager    442\r\n",
    "Director           369\r\n",
    "Consultant         294"
   ]
  },
  {
   "cell_type": "code",
   "execution_count": 25,
   "id": "62873fd8-956f-46f4-a390-be7cf6e97895",
   "metadata": {},
   "outputs": [
    {
     "data": {
      "text/plain": [
       "0    Project Manager\n",
       "Name: posTitle, dtype: object"
      ]
     },
     "execution_count": 25,
     "metadata": {},
     "output_type": "execute_result"
    }
   ],
   "source": [
    "df['posTitle'].mode()"
   ]
  },
  {
   "cell_type": "code",
   "execution_count": 42,
   "id": "1ae4f1fc-91a4-4cf3-bc7f-94d14095ece2",
   "metadata": {},
   "outputs": [
    {
     "data": {
      "image/png": "[encoded data removed]",
      "text/plain": [
       "<Figure size 640x480 with 1 Axes>"
      ]
     },
     "metadata": {},
     "output_type": "display_data"
    }
   ],
   "source": [
    "female_count = df[(df['posTitle'] == 'Project Manager') & (df['genderEstimate'] == 'female')].value_counts().sum()\n",
    "male_count = df[(df['posTitle'] == 'Project Manager') & (df['genderEstimate'] == 'male')].value_counts().sum()\n",
    "data = pd.DataFrame({'Gender': ['Female', 'Male'], 'Count': [female_count, male_count]})\n",
    "plt.bar(data['Gender'], [female_count, male_count], color=['blue', 'green'])\n",
    "plt.xlabel('Gender')\n",
    "plt.ylabel('Count')\n",
    "plt.title('Count of Female and Male Project Managers')\n",
    "plt.show()"
   ]
  },
  {
   "cell_type": "code",
   "execution_count": 27,
   "id": "fe9734b1-45d2-489b-a211-3cb5f6cd1ffa",
   "metadata": {},
   "outputs": [
    {
     "data": {
      "text/plain": [
       "<Axes: title={'center': 'Dates'}, xlabel='startDate'>"
      ]
     },
     "execution_count": 27,
     "metadata": {},
     "output_type": "execute_result"
    },
    {
     "data": {
      "image/png": "[encoded data removed]",
      "text/plain": [
       "<Figure size 640x480 with 1 Axes>"
      ]
     },
     "metadata": {},
     "output_type": "display_data"
    }
   ],
   "source": [
    "df.startDate.value_counts().plot(kind = \"line\",title = 'Dates')\n"
   ]
  },
  {
   "cell_type": "markdown",
   "id": "c3211e66-9713-44b9-890f-b1d821f89d31",
   "metadata": {},
   "source": [
    "Most of the accounts were created on 2012!"
   ]
  },
  {
   "cell_type": "code",
   "execution_count": 28,
   "id": "226bcb37-93c9-4915-97cc-989b6d2d0db8",
   "metadata": {},
   "outputs": [],
   "source": [
    "def member(avgCompanyPosDuration):\n",
    "    if avgCompanyPosDuration<365:\n",
    "        return \"Less than a year\"\n",
    "    elif avgCompanyPosDuration>= 365 and avgCompanyPosDuration < (2*365):\n",
    "        return \"About a year\"\n",
    "    elif avgCompanyPosDuration >= (2*365) and avgCompanyPosDuration<(3*365):\n",
    "        return \"About 2 year\"\n",
    "    else:\n",
    "        return \"More than two year\""
   ]
  },
  {
   "cell_type": "code",
   "execution_count": 29,
   "id": "1e9c5423-be28-491c-a634-ba5a0557ce9e",
   "metadata": {},
   "outputs": [],
   "source": [
    "df.avgCompanyPosDuration = df.avgCompanyPosDuration.apply(member)"
   ]
  },
  {
   "cell_type": "code",
   "execution_count": 46,
   "id": "978556ac-a1a9-4edb-841c-0bdc4491ae5a",
   "metadata": {},
   "outputs": [
    {
     "data": {
      "text/plain": [
       "<Axes: >"
      ]
     },
     "execution_count": 46,
     "metadata": {},
     "output_type": "execute_result"
    },
    {
     "data": {
      "image/png": "[encoded data removed]",
      "text/plain": [
       "<Figure size 640x480 with 1 Axes>"
      ]
     },
     "metadata": {},
     "output_type": "display_data"
    }
   ],
   "source": [
    "df.avgCompanyPosDuration.value_counts().plot(kind = \"pie\" , ylabel ='',autopct = \"%.2f%%\")"
   ]
  },
  {
   "cell_type": "markdown",
   "id": "773d0535-0570-400d-97a8-b6f6000b846b",
   "metadata": {},
   "source": [
    "About 2 year = 19342,\n",
    "\n",
    "\r\n",
    "About a year =  705,\n",
    "\n",
    "5\r\n",
    "More than two ye =   65,\n",
    "\n",
    "67\r\n",
    "Less than a y =    1650"
   ]
  },
  {
   "cell_type": "code",
   "execution_count": 31,
   "id": "d6af8ae4-1c77-416f-aaeb-7f09cf5e0ddc",
   "metadata": {},
   "outputs": [],
   "source": [
    "def member_pos(avgMemberPosDuration):\n",
    "    if avgMemberPosDuration<365:\n",
    "        return \"Less than a year\"\n",
    "    elif avgMemberPosDuration>= 365 and avgMemberPosDuration < (2*365):\n",
    "        return \"About a year\"\n",
    "    elif avgMemberPosDuration >= (2*365) and avgMemberPosDuration<(3*365):\n",
    "        return \"About 2 year\"\n",
    "    else:\n",
    "        return \"More than two year\""
   ]
  },
  {
   "cell_type": "code",
   "execution_count": 32,
   "id": "b8797969-7d74-410d-a367-b3e49fc44b5a",
   "metadata": {},
   "outputs": [],
   "source": [
    "df.avgMemberPosDuration\t= df.avgMemberPosDuration.apply(member_pos)"
   ]
  },
  {
   "cell_type": "code",
   "execution_count": 45,
   "id": "3fa2d676-053e-41c8-8cf3-9bdf71795da1",
   "metadata": {},
   "outputs": [
    {
     "data": {
      "text/plain": [
       "<Axes: >"
      ]
     },
     "execution_count": 45,
     "metadata": {},
     "output_type": "execute_result"
    },
    {
     "data": {
      "image/png": "[encoded data removed]",
      "text/plain": [
       "<Figure size 640x480 with 1 Axes>"
      ]
     },
     "metadata": {},
     "output_type": "display_data"
    }
   ],
   "source": [
    "df.avgCompanyPosDuration.value_counts().plot(kind = \"pie\" , ylabel ='',autopct = \"%.2f%%\")"
   ]
  },
  {
   "cell_type": "markdown",
   "id": "27a427b0-7b82-49a3-bc0d-6facf72e4a6d",
   "metadata": {},
   "source": [
    "About 2 year          19342\r\n",
    "About a year           7055\r\n",
    "More than two year     6567\r\n",
    "Less than a year       1650"
   ]
  },
  {
   "cell_type": "code",
   "execution_count": 34,
   "id": "0fb89bb2-f796-40f0-baf2-e18f38719faa",
   "metadata": {},
   "outputs": [],
   "source": [
    "df.isPremium = df.isPremium.astype(\"int\")"
   ]
  },
  {
   "cell_type": "code",
   "execution_count": 35,
   "id": "4408024e-d447-472d-9246-4faa4f212eca",
   "metadata": {},
   "outputs": [],
   "source": [
    "def prem(isPremium):\n",
    "    if isPremium == 1:\n",
    "        return \"Has Premium\"\n",
    "    else:\n",
    "        return \"No Premium\""
   ]
  },
  {
   "cell_type": "code",
   "execution_count": 36,
   "id": "a5ce9b74-0403-4862-aa00-884d1990ea84",
   "metadata": {},
   "outputs": [],
   "source": [
    "df.isPremium = df.isPremium.apply(prem)"
   ]
  },
  {
   "cell_type": "code",
   "execution_count": 44,
   "id": "6d3ac965-c665-4c91-b014-9b1557d825a6",
   "metadata": {},
   "outputs": [
    {
     "data": {
      "text/plain": [
       "<Axes: >"
      ]
     },
     "execution_count": 44,
     "metadata": {},
     "output_type": "execute_result"
    },
    {
     "data": {
      "image/png": "[encoded data removed]",
      "text/plain": [
       "<Figure size 640x480 with 1 Axes>"
      ]
     },
     "metadata": {},
     "output_type": "display_data"
    }
   ],
   "source": [
    "df.isPremium.value_counts().plot(kind = \"pie\",ylabel = '',autopct = \"%.2f%%\")"
   ]
  },
  {
   "cell_type": "markdown",
   "id": "21dab409-7217-40cb-8540-65e080317986",
   "metadata": {},
   "source": [
    "No Premium     30065\r\n",
    "Has Premium     4549"
   ]
  },
  {
   "cell_type": "code",
   "execution_count": 38,
   "id": "1e3ba2cf-5f35-43b1-aecd-6bf22b12ec85",
   "metadata": {},
   "outputs": [],
   "source": [
    "df.connectionsCount = df.connectionsCount.astype(\"int\")\n",
    "df.followersCount = df.followersCount.astype(\"int\")\n"
   ]
  },
  {
   "cell_type": "code",
   "execution_count": 39,
   "id": "a8eb9032-6f9a-4a26-98f6-7db1e41f9919",
   "metadata": {},
   "outputs": [
    {
     "data": {
      "text/html": [
       "<div>\n",
       "<style scoped>\n",
       "    .dataframe tbody tr th:only-of-type {\n",
       "        vertical-align: middle;\n",
       "    }\n",
       "\n",
       "    .dataframe tbody tr th {\n",
       "        vertical-align: top;\n",
       "    }\n",
       "\n",
       "    .dataframe thead th {\n",
       "        text-align: right;\n",
       "    }\n",
       "</style>\n",
       "<table border=\"1\" class=\"dataframe\">\n",
       "  <thead>\n",
       "    <tr style=\"text-align: right;\">\n",
       "      <th></th>\n",
       "      <th>Unnamed: 0</th>\n",
       "      <th>ageEstimate</th>\n",
       "      <th>companyName</th>\n",
       "      <th>connectionsCount</th>\n",
       "      <th>country</th>\n",
       "      <th>followable</th>\n",
       "      <th>followersCount</th>\n",
       "      <th>genderEstimate</th>\n",
       "      <th>isPremium</th>\n",
       "      <th>posTitle</th>\n",
       "      <th>startDate</th>\n",
       "      <th>avgMemberPosDuration</th>\n",
       "      <th>avgCompanyPosDuration</th>\n",
       "    </tr>\n",
       "  </thead>\n",
       "  <tbody>\n",
       "    <tr>\n",
       "      <th>0</th>\n",
       "      <td>0</td>\n",
       "      <td>Adult</td>\n",
       "      <td>Commonwealth Bank</td>\n",
       "      <td>500</td>\n",
       "      <td>au</td>\n",
       "      <td>Followable</td>\n",
       "      <td>506</td>\n",
       "      <td>male</td>\n",
       "      <td>No Premium</td>\n",
       "      <td>Portfolio Executive</td>\n",
       "      <td>2014-07-01</td>\n",
       "      <td>About 2 year</td>\n",
       "      <td>About 2 year</td>\n",
       "    </tr>\n",
       "    <tr>\n",
       "      <th>1</th>\n",
       "      <td>1</td>\n",
       "      <td>Adult</td>\n",
       "      <td>Commonwealth Bank</td>\n",
       "      <td>500</td>\n",
       "      <td>au</td>\n",
       "      <td>Followable</td>\n",
       "      <td>506</td>\n",
       "      <td>male</td>\n",
       "      <td>No Premium</td>\n",
       "      <td>Solution Delivery Executive</td>\n",
       "      <td>2013-11-01</td>\n",
       "      <td>About 2 year</td>\n",
       "      <td>About 2 year</td>\n",
       "    </tr>\n",
       "    <tr>\n",
       "      <th>2</th>\n",
       "      <td>2</td>\n",
       "      <td>Adult</td>\n",
       "      <td>CommSec</td>\n",
       "      <td>500</td>\n",
       "      <td>au</td>\n",
       "      <td>Followable</td>\n",
       "      <td>506</td>\n",
       "      <td>male</td>\n",
       "      <td>No Premium</td>\n",
       "      <td>Project Manager</td>\n",
       "      <td>2008-08-01</td>\n",
       "      <td>About 2 year</td>\n",
       "      <td>About 2 year</td>\n",
       "    </tr>\n",
       "    <tr>\n",
       "      <th>3</th>\n",
       "      <td>3</td>\n",
       "      <td>Adult</td>\n",
       "      <td>Commonwealth Bank</td>\n",
       "      <td>500</td>\n",
       "      <td>au</td>\n",
       "      <td>Followable</td>\n",
       "      <td>506</td>\n",
       "      <td>male</td>\n",
       "      <td>No Premium</td>\n",
       "      <td>Project Manager</td>\n",
       "      <td>2007-02-01</td>\n",
       "      <td>About 2 year</td>\n",
       "      <td>About 2 year</td>\n",
       "    </tr>\n",
       "    <tr>\n",
       "      <th>4</th>\n",
       "      <td>4</td>\n",
       "      <td>Adult</td>\n",
       "      <td>PayPal</td>\n",
       "      <td>500</td>\n",
       "      <td>au</td>\n",
       "      <td>Followable</td>\n",
       "      <td>951</td>\n",
       "      <td>female</td>\n",
       "      <td>No Premium</td>\n",
       "      <td>Senior Marketing Manager</td>\n",
       "      <td>2017-01-01</td>\n",
       "      <td>About a year</td>\n",
       "      <td>About a year</td>\n",
       "    </tr>\n",
       "    <tr>\n",
       "      <th>...</th>\n",
       "      <td>...</td>\n",
       "      <td>...</td>\n",
       "      <td>...</td>\n",
       "      <td>...</td>\n",
       "      <td>...</td>\n",
       "      <td>...</td>\n",
       "      <td>...</td>\n",
       "      <td>...</td>\n",
       "      <td>...</td>\n",
       "      <td>...</td>\n",
       "      <td>...</td>\n",
       "      <td>...</td>\n",
       "      <td>...</td>\n",
       "    </tr>\n",
       "    <tr>\n",
       "      <th>39532</th>\n",
       "      <td>39532</td>\n",
       "      <td>Adult</td>\n",
       "      <td>National Australia Bank</td>\n",
       "      <td>362</td>\n",
       "      <td>au</td>\n",
       "      <td>Followable</td>\n",
       "      <td>363</td>\n",
       "      <td>male</td>\n",
       "      <td>No Premium</td>\n",
       "      <td>Senior Partner</td>\n",
       "      <td>2006-08-01</td>\n",
       "      <td>More than two year</td>\n",
       "      <td>About 2 year</td>\n",
       "    </tr>\n",
       "    <tr>\n",
       "      <th>39533</th>\n",
       "      <td>39533</td>\n",
       "      <td>Adult</td>\n",
       "      <td>National Australia Bank</td>\n",
       "      <td>362</td>\n",
       "      <td>au</td>\n",
       "      <td>Followable</td>\n",
       "      <td>363</td>\n",
       "      <td>male</td>\n",
       "      <td>No Premium</td>\n",
       "      <td>Senior Business Banking Manager / Partner 4</td>\n",
       "      <td>2003-08-01</td>\n",
       "      <td>More than two year</td>\n",
       "      <td>About 2 year</td>\n",
       "    </tr>\n",
       "    <tr>\n",
       "      <th>39534</th>\n",
       "      <td>39534</td>\n",
       "      <td>Adult</td>\n",
       "      <td>National Australia Bank</td>\n",
       "      <td>362</td>\n",
       "      <td>au</td>\n",
       "      <td>Followable</td>\n",
       "      <td>363</td>\n",
       "      <td>male</td>\n",
       "      <td>No Premium</td>\n",
       "      <td>Business Banking Manager / Partner 3</td>\n",
       "      <td>2000-06-01</td>\n",
       "      <td>More than two year</td>\n",
       "      <td>About 2 year</td>\n",
       "    </tr>\n",
       "    <tr>\n",
       "      <th>39535</th>\n",
       "      <td>39535</td>\n",
       "      <td>Adult</td>\n",
       "      <td>National Australia Bank</td>\n",
       "      <td>362</td>\n",
       "      <td>au</td>\n",
       "      <td>Followable</td>\n",
       "      <td>363</td>\n",
       "      <td>male</td>\n",
       "      <td>No Premium</td>\n",
       "      <td>Business Banking Officer</td>\n",
       "      <td>1995-11-01</td>\n",
       "      <td>More than two year</td>\n",
       "      <td>About 2 year</td>\n",
       "    </tr>\n",
       "    <tr>\n",
       "      <th>39536</th>\n",
       "      <td>39536</td>\n",
       "      <td>Adult</td>\n",
       "      <td>National Australia Bank</td>\n",
       "      <td>362</td>\n",
       "      <td>au</td>\n",
       "      <td>Followable</td>\n",
       "      <td>363</td>\n",
       "      <td>male</td>\n",
       "      <td>No Premium</td>\n",
       "      <td>Various customer service roles including inter...</td>\n",
       "      <td>1989-02-01</td>\n",
       "      <td>More than two year</td>\n",
       "      <td>About 2 year</td>\n",
       "    </tr>\n",
       "  </tbody>\n",
       "</table>\n",
       "<p>34614 rows × 13 columns</p>\n",
       "</div>"
      ],
      "text/plain": [
       "       Unnamed: 0 ageEstimate              companyName  connectionsCount  \\\n",
       "0               0       Adult        Commonwealth Bank               500   \n",
       "1               1       Adult        Commonwealth Bank               500   \n",
       "2               2       Adult                  CommSec               500   \n",
       "3               3       Adult        Commonwealth Bank               500   \n",
       "4               4       Adult                   PayPal               500   \n",
       "...           ...         ...                      ...               ...   \n",
       "39532       39532       Adult  National Australia Bank               362   \n",
       "39533       39533       Adult  National Australia Bank               362   \n",
       "39534       39534       Adult  National Australia Bank               362   \n",
       "39535       39535       Adult  National Australia Bank               362   \n",
       "39536       39536       Adult  National Australia Bank               362   \n",
       "\n",
       "      country  followable  followersCount genderEstimate   isPremium  \\\n",
       "0          au  Followable             506           male  No Premium   \n",
       "1          au  Followable             506           male  No Premium   \n",
       "2          au  Followable             506           male  No Premium   \n",
       "3          au  Followable             506           male  No Premium   \n",
       "4          au  Followable             951         female  No Premium   \n",
       "...       ...         ...             ...            ...         ...   \n",
       "39532      au  Followable             363           male  No Premium   \n",
       "39533      au  Followable             363           male  No Premium   \n",
       "39534      au  Followable             363           male  No Premium   \n",
       "39535      au  Followable             363           male  No Premium   \n",
       "39536      au  Followable             363           male  No Premium   \n",
       "\n",
       "                                                posTitle   startDate  \\\n",
       "0                                    Portfolio Executive  2014-07-01   \n",
       "1                            Solution Delivery Executive  2013-11-01   \n",
       "2                                        Project Manager  2008-08-01   \n",
       "3                                        Project Manager  2007-02-01   \n",
       "4                               Senior Marketing Manager  2017-01-01   \n",
       "...                                                  ...         ...   \n",
       "39532                                     Senior Partner  2006-08-01   \n",
       "39533        Senior Business Banking Manager / Partner 4  2003-08-01   \n",
       "39534               Business Banking Manager / Partner 3  2000-06-01   \n",
       "39535                           Business Banking Officer  1995-11-01   \n",
       "39536  Various customer service roles including inter...  1989-02-01   \n",
       "\n",
       "      avgMemberPosDuration avgCompanyPosDuration  \n",
       "0             About 2 year          About 2 year  \n",
       "1             About 2 year          About 2 year  \n",
       "2             About 2 year          About 2 year  \n",
       "3             About 2 year          About 2 year  \n",
       "4             About a year          About a year  \n",
       "...                    ...                   ...  \n",
       "39532   More than two year          About 2 year  \n",
       "39533   More than two year          About 2 year  \n",
       "39534   More than two year          About 2 year  \n",
       "39535   More than two year          About 2 year  \n",
       "39536   More than two year          About 2 year  \n",
       "\n",
       "[34614 rows x 13 columns]"
      ]
     },
     "execution_count": 39,
     "metadata": {},
     "output_type": "execute_result"
    }
   ],
   "source": [
    "df"
   ]
  },
  {
   "cell_type": "markdown",
   "id": "5bf98375-4f51-4b30-a76d-18cf2580cad2",
   "metadata": {},
   "source": [
    "# Findings:\n",
    "\n",
    "More numnber of males\n",
    "\n",
    "Most of them are Project Manager\n",
    "\n",
    "Very few people have Premium\n",
    "\n",
    "Most of them worked for about 2 year\n",
    "\n",
    "created on 2012\n",
    "\n",
    "More number of males\n",
    "\n",
    "\n",
    "Based on the findings, it is found that there is a higher proportion of males within the dataset. Additionally, the majority of individuals hold the role of Project Manager. Interestingly, only a small percentage of the sample have a Premium status. Most participants reported a tenure of approximately two years, suggesting a moderate level of experience within the workforce. The data seems to originate from the year 2012. In summary, the findings suggest a predominantly male-dominated demographic with a focus on Project Management roles, modest tenure, and limited Premium memberships."
   ]
  },
  {
   "cell_type": "code",
   "execution_count": null,
   "id": "6444b136-75c0-42f8-804c-fdb8d19c830f",
   "metadata": {},
   "outputs": [],
   "source": []
  },
  {
   "cell_type": "code",
   "execution_count": null,
   "id": "bcd1dfea-ef47-4217-91b5-5815af41e375",
   "metadata": {},
   "outputs": [],
   "source": []
  }
 ],
 "metadata": {
  "kernelspec": {
   "display_name": "Python 3 (ipykernel)",
   "language": "python",
   "name": "python3"
  },
  "language_info": {
   "codemirror_mode": {
    "name": "ipython",
    "version": 3
   },
   "file_extension": ".py",
   "mimetype": "text/x-python",
   "name": "python",
   "nbconvert_exporter": "python",
   "pygments_lexer": "ipython3",
   "version": "3.11.7"
  }
 },
 "nbformat": 4,
 "nbformat_minor": 5
}
